{
  "nbformat": 4,
  "nbformat_minor": 0,
  "metadata": {
    "colab": {
      "provenance": [],
      "authorship_tag": "ABX9TyNiY0z422W11+RfmIH6cwRJ",
      "include_colab_link": true
    },
    "kernelspec": {
      "name": "python3",
      "display_name": "Python 3"
    },
    "language_info": {
      "name": "python"
    }
  },
  "cells": [
    {
      "cell_type": "markdown",
      "metadata": {
        "id": "view-in-github",
        "colab_type": "text"
      },
      "source": [
        "<a href=\"https://colab.research.google.com/github/Laianesilva04/teste/blob/main/Untitled3.ipynb\" target=\"_parent\"><img src=\"https://colab.research.google.com/assets/colab-badge.svg\" alt=\"Open In Colab\"/></a>"
      ]
    },
    {
      "cell_type": "code",
      "source": [],
      "metadata": {
        "id": "geAwQ7qYxZeV"
      },
      "execution_count": null,
      "outputs": []
    },
    {
      "cell_type": "markdown",
      "source": [
        "# Faça um programa que pergunte o nome, idade, peso e altura de uma pessoa e decide ser ela está apta a entrar no exercito.\n",
        "#Obs: Para entrar no exercito é preciso ter mais de 18 anos, pesar igual ou mais que 60 kg e medir mais ou igual que 1,70\n",
        "\n",
        "#Saida:\n",
        "#'Você está apto a servir o exercito'\n",
        "#OU\n",
        "#'Você não está apto a servir o exercito'"
      ],
      "metadata": {
        "id": "BWmIrXjsux4m"
      }
    },
    {
      "cell_type": "code",
      "source": [
        "nome = input(\"Qual é o seu nome? \")\n",
        "idade  =  int(input(\"Qual é a sua idade? \"))\n",
        "peso = float(input(\"Qual é o seu peso em kg? \"))\n",
        "altura = float(input(\"Qual é a sua altura? \"))\n",
        "\n",
        "if idade > 18 and peso >= 60 and altura >= 1.70:\n",
        "  print(\"Você está apto a servir o exercito.\")\n",
        "\n",
        "else:\n",
        "  print(\"Você não está apto a servir o exercito.\")\n",
        "\n",
        "\n"
      ],
      "metadata": {
        "colab": {
          "base_uri": "https://localhost:8080/"
        },
        "id": "vguIZ2i8xk5A",
        "outputId": "d3241b43-29d2-4f8e-baa1-4908b55fb3e7"
      },
      "execution_count": 2,
      "outputs": [
        {
          "output_type": "stream",
          "name": "stdout",
          "text": [
            "Qual é o seu nome? Laiane\n",
            "Qual é a sua idade? 24\n",
            "Qual é o seu peso em kg? 63\n",
            "Qual é a sua altura? 1.63\n",
            "Você não está apto a servir o exercito.\n"
          ]
        }
      ]
    },
    {
      "cell_type": "markdown",
      "source": [
        "# Faça um programa que imprima a frase de tras para frente e veja o que está escrito. Palindromo - Anotaram a data da maratona"
      ],
      "metadata": {
        "id": "kEaExaFR4xgR"
      }
    },
    {
      "cell_type": "code",
      "source": [
        "frase = \"Anotaram a data da maratona\"\n",
        "frase_invertida = frase[::-1]\n",
        "\n",
        "print(\"Frase Original:\", frase)\n",
        "print(\"Frase invertida:\", frase_invertida)\n",
        "\n",
        "if frase == frase_invertida:\n",
        "  print(\"A frase é um polindromo.\")\n",
        "\n",
        "else:\n",
        "\n",
        "  print(\"A frase não é um polindromo.\")"
      ],
      "metadata": {
        "colab": {
          "base_uri": "https://localhost:8080/"
        },
        "id": "g-H-nb_H5syR",
        "outputId": "d27ce539-3c55-43bb-e760-c131d1e27f37"
      },
      "execution_count": 6,
      "outputs": [
        {
          "output_type": "stream",
          "name": "stdout",
          "text": [
            "Frase Original: Anotaram a data da maratona\n",
            "Frase invertida: anotaram ad atad a maratonA\n",
            "A frase não é um polindromo.\n"
          ]
        }
      ]
    },
    {
      "cell_type": "markdown",
      "source": [
        "#Faça um programa que calcule quantos segundos tem:\n",
        "\n"
      ],
      "metadata": {
        "id": "_-1S_0f9_xoa"
      }
    },
    {
      "cell_type": "code",
      "source": [
        "# Entrada de dados\n",
        "dias = int(input(\"Dias: \"))\n"
      ],
      "metadata": {
        "id": "ZqiYMSneIxhq"
      },
      "execution_count": null,
      "outputs": []
    }
  ]
}